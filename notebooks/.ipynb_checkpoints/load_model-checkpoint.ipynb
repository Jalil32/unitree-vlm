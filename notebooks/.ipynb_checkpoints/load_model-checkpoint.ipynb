{
 "cells": [
  {
   "cell_type": "code",
   "execution_count": 5,
   "metadata": {},
   "outputs": [
    {
     "name": "stdout",
     "output_type": "stream",
     "text": [
      "Num GPUs Available:  1\n"
     ]
    }
   ],
   "source": [
    "import tensorflow as tf\n",
    "print(\"Num GPUs Available: \", len(tf.config.list_physical_devices('GPU')))"
   ]
  },
  {
   "cell_type": "code",
   "execution_count": 1,
   "metadata": {},
   "outputs": [],
   "source": [
    "import torch\n",
    "from transformers import AutoModelForCausalLM, AutoTokenizer"
   ]
  },
  {
   "cell_type": "code",
   "execution_count": 5,
   "metadata": {},
   "outputs": [],
   "source": [
    "def check_gpu():\n",
    "    \"\"\"Check if GPU is available and print information about it.\"\"\"\n",
    "    if torch.cuda.is_available():\n",
    "        device = torch.device(\"cuda\")\n",
    "        print(f\"Using GPU: {torch.cuda.get_device_name(0)}\")\n",
    "        print(f\"GPU Memory: {torch.cuda.get_device_properties(0).total_memory / 1e9:.2f} GB\")\n",
    "        return device\n",
    "    else:\n",
    "        print(\"No GPU available, using CPU.\")\n",
    "        return torch.device(\"cpu\")"
   ]
  },
  {
   "cell_type": "code",
   "execution_count": 10,
   "metadata": {},
   "outputs": [],
   "source": [
    "import torch\n",
    "from transformers import AutoModelForCausalLM, AutoTokenizer\n",
    "\n",
    "\n",
    "def load_llama_model(model_name=\"TinyLlama/TinyLlama-1.1B-Chat-v1.0\", quantize=False):\n",
    "    \"\"\"\n",
    "    Load a LLAMA model variant using PyTorch.\n",
    "    \n",
    "    Args:\n",
    "        model_name: The model to load from Hugging Face\n",
    "        quantize: Whether to apply 4-bit quantization\n",
    "        \n",
    "    Returns:\n",
    "        model: The loaded model\n",
    "        tokenizer: The tokenizer for the model\n",
    "    \"\"\"\n",
    "    print(f\"Loading model: {model_name}\")\n",
    "    device = check_gpu()\n",
    "    \n",
    "    # Load the tokenizer\n",
    "    tokenizer = AutoTokenizer.from_pretrained(model_name)\n",
    "    \n",
    "    # Set up quantization options if enabled\n",
    "    if quantize:\n",
    "        print(\"Loading with 4-bit quantization...\")\n",
    "        model = AutoModelForCausalLM.from_pretrained(\n",
    "            model_name,\n",
    "            device_map=\"auto\"\n",
    "        )\n",
    "    else:\n",
    "        # Load without quantization\n",
    "        model = AutoModelForCausalLM.from_pretrained(\n",
    "            model_name,\n",
    "            device_map=\"auto\"\n",
    "        )\n",
    "    \n",
    "    print(f\"Model loaded with {sum(p.numel() for p in model.parameters()) / 1e6:.2f}M parameters\")\n",
    "    return model, tokenizer\n"
   ]
  },
  {
   "cell_type": "code",
   "execution_count": 11,
   "metadata": {},
   "outputs": [],
   "source": [
    "\n",
    "def generate_text(model, tokenizer, prompt, max_new_tokens=512, temperature=0.7):\n",
    "    \"\"\"\n",
    "    Generate text using the loaded model.\n",
    "    \n",
    "    Args:\n",
    "        model: The loaded model\n",
    "        tokenizer: The tokenizer for the model\n",
    "        prompt: The input prompt to generate from\n",
    "        max_new_tokens: Maximum number of new tokens to generate\n",
    "        temperature: Controls randomness (lower is more deterministic)\n",
    "        \n",
    "    Returns:\n",
    "        The generated text as a string\n",
    "    \"\"\"\n",
    "    # Prepare the model inputs\n",
    "    inputs = tokenizer(prompt, return_tensors=\"pt\")\n",
    "    inputs = {k: v.to(model.device) for k, v in inputs.items()}\n",
    "    \n",
    "    # Generate text\n",
    "    with torch.no_grad():\n",
    "        outputs = model.generate(\n",
    "            **inputs,\n",
    "            max_new_tokens=max_new_tokens,\n",
    "            do_sample=True,\n",
    "            temperature=temperature,\n",
    "            top_p=0.95,\n",
    "            top_k=50,\n",
    "            repetition_penalty=1.1,\n",
    "        )\n",
    "    \n",
    "    # Decode the generated text\n",
    "    generated_text = tokenizer.decode(outputs[0], skip_special_tokens=True)\n",
    "    return generated_text"
   ]
  },
  {
   "cell_type": "code",
   "execution_count": 12,
   "metadata": {},
   "outputs": [],
   "source": [
    "# Choose model and whether to apply quantization\n",
    "model_name = \"TinyLlama/TinyLlama-1.1B-Chat-v1.0\"\n",
    "use_quantization = False  # Set to True for larger models"
   ]
  },
  {
   "cell_type": "code",
   "execution_count": 13,
   "metadata": {},
   "outputs": [
    {
     "name": "stdout",
     "output_type": "stream",
     "text": [
      "Loading model: TinyLlama/TinyLlama-1.1B-Chat-v1.0\n",
      "Using GPU: NVIDIA GeForce RTX 4080\n",
      "GPU Memory: 16.83 GB\n"
     ]
    },
    {
     "name": "stderr",
     "output_type": "stream",
     "text": [
      "2025-03-16 16:57:57.705080: I tensorflow/core/util/port.cc:153] oneDNN custom operations are on. You may see slightly different numerical results due to floating-point round-off errors from different computation orders. To turn them off, set the environment variable `TF_ENABLE_ONEDNN_OPTS=0`.\n",
      "2025-03-16 16:57:57.712545: E external/local_xla/xla/stream_executor/cuda/cuda_fft.cc:467] Unable to register cuFFT factory: Attempting to register factory for plugin cuFFT when one has already been registered\n",
      "WARNING: All log messages before absl::InitializeLog() is called are written to STDERR\n",
      "E0000 00:00:1742115477.721131   27971 cuda_dnn.cc:8579] Unable to register cuDNN factory: Attempting to register factory for plugin cuDNN when one has already been registered\n",
      "E0000 00:00:1742115477.723643   27971 cuda_blas.cc:1407] Unable to register cuBLAS factory: Attempting to register factory for plugin cuBLAS when one has already been registered\n",
      "W0000 00:00:1742115477.730474   27971 computation_placer.cc:177] computation placer already registered. Please check linkage and avoid linking the same target more than once.\n",
      "W0000 00:00:1742115477.730483   27971 computation_placer.cc:177] computation placer already registered. Please check linkage and avoid linking the same target more than once.\n",
      "W0000 00:00:1742115477.730485   27971 computation_placer.cc:177] computation placer already registered. Please check linkage and avoid linking the same target more than once.\n",
      "W0000 00:00:1742115477.730485   27971 computation_placer.cc:177] computation placer already registered. Please check linkage and avoid linking the same target more than once.\n",
      "2025-03-16 16:57:57.732800: I tensorflow/core/platform/cpu_feature_guard.cc:210] This TensorFlow binary is optimized to use available CPU instructions in performance-critical operations.\n",
      "To enable the following instructions: AVX2 AVX_VNNI FMA, in other operations, rebuild TensorFlow with the appropriate compiler flags.\n"
     ]
    },
    {
     "name": "stdout",
     "output_type": "stream",
     "text": [
      "Model loaded with 1100.05M parameters\n"
     ]
    }
   ],
   "source": [
    "model, tokenizer = load_llama_model(model_name, quantize=use_quantization)\n"
   ]
  },
  {
   "cell_type": "code",
   "execution_count": null,
   "metadata": {},
   "outputs": [
    {
     "name": "stdout",
     "output_type": "stream",
     "text": [
      "\n",
      "Prompt: Explain quantum computing in simple terms:\n",
      "\n",
      "Generating response...\n",
      "\n",
      "Generated response:\n",
      "Explain quantum computing in simple terms:\n",
      "\n",
      "Quantum computers use qubits to store and process data. When the computer is turned on, it acts as a classical computer that performs calculations using bits (1s and 0s). But when the computer is switched on, it can perform quantum computations. These calculations are performed by manipulating the qubits rather than the classical bits, which allows for more efficient processing. The most common application of quantum computing is in solving complex problems that would take a long time or be impossible to solve with classical computers.\n"
     ]
    }
   ],
   "source": [
    "\n",
    "# Try a simple prompt\n",
    "prompt = \"Explain Rust programming language in simple terms:\"\n",
    "\n",
    "print(\"\\nPrompt:\", prompt)\n",
    "print(\"\\nGenerating response...\")\n",
    "\n",
    "response = generate_text(model, tokenizer, prompt)\n",
    "\n",
    "print(\"\\nGenerated response:\")\n",
    "print(response)"
   ]
  }
 ],
 "metadata": {
  "kernelspec": {
   "display_name": "env",
   "language": "python",
   "name": "python3"
  },
  "language_info": {
   "codemirror_mode": {
    "name": "ipython",
    "version": 3
   },
   "file_extension": ".py",
   "mimetype": "text/x-python",
   "name": "python",
   "nbconvert_exporter": "python",
   "pygments_lexer": "ipython3",
   "version": "3.12.3"
  }
 },
 "nbformat": 4,
 "nbformat_minor": 2
}
